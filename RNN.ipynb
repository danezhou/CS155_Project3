{
 "cells": [
  {
   "cell_type": "code",
   "execution_count": 54,
   "metadata": {},
   "outputs": [],
   "source": [
    "import numpy as np\n",
    "from keras.utils import to_categorical\n",
    "from keras.models import Sequential\n",
    "from keras.layers import Dense\n",
    "from keras.layers import LSTM\n",
    "from keras.models import load_model\n",
    "from keras.utils import to_categorical\n",
    "from keras.preprocessing.sequence import pad_sequences\n"
   ]
  },
  {
   "cell_type": "code",
   "execution_count": 76,
   "metadata": {},
   "outputs": [],
   "source": [
    "with open('data/shakespeare_proc_rnn.txt', 'r') as f:\n",
    "    source = f.read()\n",
    "\n",
    "num_chars = len(set(source))\n",
    "char_seqs = [source[i-40:i+1] for i in range(40, len(source))]\n",
    "char_to_int = {}\n",
    "for i, char in enumerate(set(source)):\n",
    "    char_to_int[char] = i\n",
    "encoded = np.array([[char_to_int[char] for char in seq] for seq in char_seqs])"
   ]
  },
  {
   "cell_type": "code",
   "execution_count": null,
   "metadata": {},
   "outputs": [],
   "source": [
    "X, y = encoded[:,:-1], encoded[:,-1]\n",
    "X = np.array([to_categorical(x, num_classes=num_chars) for x in X])\n",
    "y = to_categorical(y, num_classes=num_chars)\n",
    "    \n",
    "model = Sequential()\n",
    "model.add(LSTM(150, input_shape=(X.shape[1], X.shape[2])))\n",
    "model.add(Dense(num_chars, activation='softmax'))\n",
    "model.compile('adam', loss='categorical_crossentropy')\n",
    "model.fit(X, y, epochs=50)\n",
    "model.save('rnn_model')"
   ]
  },
  {
   "cell_type": "code",
   "execution_count": 72,
   "metadata": {},
   "outputs": [
    {
     "name": "stdout",
     "output_type": "stream",
     "text": [
      "shall i compare thee to a summer's day?\n",
      "the the sear the love the love the love the love the love the love the love the love the love the love the love the love the love the love the love the love the love the love the love the love the love the love the love the love the love the love the love the love the love the love the love the love the love the love the love the love the love the love the love the love the love the love the love the love the love the love the love the love the love the love the love the love the love the love the love the love the love the love the love the love the love the love the love \n"
     ]
    }
   ],
   "source": [
    "model = load_model('rnn_model')\n",
    "\n",
    "text = 'shall i compare thee to a summer\\'s day?\\n'\n",
    "for i in range(580):\n",
    "    encoded = [char_to_int[char] for char in text]\n",
    "    encoded = pad_sequences([encoded], maxlen=40, truncating='pre')\n",
    "    encoded = to_categorical(encoded, num_classes=len(char_to_int))\n",
    "    pred = model.predict_classes(encoded, verbose=0)\n",
    "    out_char = ''\n",
    "    for char, index in char_to_int.items():\n",
    "        if index == pred:\n",
    "            out_char = char\n",
    "            break\n",
    "    text += char\n",
    "\n",
    "print(text)"
   ]
  },
  {
   "cell_type": "code",
   "execution_count": null,
   "metadata": {},
   "outputs": [],
   "source": []
  }
 ],
 "metadata": {
  "kernelspec": {
   "display_name": "Python 3",
   "language": "python",
   "name": "python3"
  },
  "language_info": {
   "codemirror_mode": {
    "name": "ipython",
    "version": 3
   },
   "file_extension": ".py",
   "mimetype": "text/x-python",
   "name": "python",
   "nbconvert_exporter": "python",
   "pygments_lexer": "ipython3",
   "version": "3.7.4"
  }
 },
 "nbformat": 4,
 "nbformat_minor": 4
}
