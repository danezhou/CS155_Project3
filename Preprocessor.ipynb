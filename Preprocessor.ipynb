{
 "cells": [
  {
   "cell_type": "code",
   "execution_count": 1,
   "metadata": {},
   "outputs": [],
   "source": [
    "import numpy as np\n",
    "import string"
   ]
  },
  {
   "cell_type": "code",
   "execution_count": 2,
   "metadata": {},
   "outputs": [],
   "source": [
    "lines = []\n",
    "f = open('./data/shakespeare_good.txt', 'r')\n",
    "for line in f:\n",
    "    lines.append(line)\n",
    "f.close()"
   ]
  },
  {
   "cell_type": "code",
   "execution_count": 3,
   "metadata": {},
   "outputs": [],
   "source": [
    "new_lines = lines.copy()"
   ]
  },
  {
   "cell_type": "code",
   "execution_count": 4,
   "metadata": {},
   "outputs": [],
   "source": [
    "for line in new_lines:\n",
    "    if len(line.strip()) < 6:\n",
    "        new_lines.remove(line)"
   ]
  },
  {
   "cell_type": "code",
   "execution_count": 5,
   "metadata": {},
   "outputs": [],
   "source": [
    "formatted_lines = []\n",
    "n = len(new_lines)\n",
    "for i in range(n):\n",
    "    line = new_lines[i]\n",
    "    if line[0] == ' ': # remove white space in front of couplets\n",
    "        line = line[2:]\n",
    "    line = line[:-1].lower()\n",
    "    punc = \"!()[]{};:,.?\"\n",
    "    for x in punc:\n",
    "        line = line.replace(x, '')\n",
    "    if line != '':\n",
    "        formatted_lines.append(line)"
   ]
  },
  {
   "cell_type": "code",
   "execution_count": 6,
   "metadata": {},
   "outputs": [],
   "source": [
    "n = len(formatted_lines)\n",
    "poems = []\n",
    "i = 0\n",
    "while i < n:\n",
    "    poem = ''\n",
    "    for j in range(14):\n",
    "        poem += formatted_lines[i+j] + ' '\n",
    "    i += 14\n",
    "    poems.append(poem)"
   ]
  },
  {
   "cell_type": "code",
   "execution_count": 7,
   "metadata": {},
   "outputs": [],
   "source": [
    "# create new file where each sequence is a whole poem for HMM\n",
    "with open('./data/shakespeare_proc.txt', 'w') as f:\n",
    "    for line in formatted_lines:\n",
    "        f.write(\"%s\\n\" % line)"
   ]
  },
  {
   "cell_type": "code",
   "execution_count": null,
   "metadata": {},
   "outputs": [],
   "source": []
  }
 ],
 "metadata": {
  "kernelspec": {
   "display_name": "Python 3",
   "language": "python",
   "name": "python3"
  },
  "language_info": {
   "codemirror_mode": {
    "name": "ipython",
    "version": 3
   },
   "file_extension": ".py",
   "mimetype": "text/x-python",
   "name": "python",
   "nbconvert_exporter": "python",
   "pygments_lexer": "ipython3",
   "version": "3.7.4"
  }
 },
 "nbformat": 4,
 "nbformat_minor": 2
}
