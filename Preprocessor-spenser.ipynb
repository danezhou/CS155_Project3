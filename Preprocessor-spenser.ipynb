{
 "cells": [
  {
   "cell_type": "code",
   "execution_count": 1,
   "metadata": {},
   "outputs": [],
   "source": [
    "import numpy as np\n",
    "import string"
   ]
  },
  {
   "cell_type": "code",
   "execution_count": 10,
   "metadata": {},
   "outputs": [],
   "source": [
    "lines = []\n",
    "f = open('./data/spenser.txt', 'r')\n",
    "for line in f:\n",
    "    lines.append(line)\n",
    "f.close()"
   ]
  },
  {
   "cell_type": "code",
   "execution_count": 11,
   "metadata": {},
   "outputs": [],
   "source": [
    "new_lines = lines.copy()"
   ]
  },
  {
   "cell_type": "code",
   "execution_count": 14,
   "metadata": {},
   "outputs": [],
   "source": [
    "for line in new_lines:\n",
    "    if len(line.strip()) < 6:\n",
    "        new_lines.remove(line)"
   ]
  },
  {
   "cell_type": "code",
   "execution_count": 15,
   "metadata": {},
   "outputs": [],
   "source": [
    "formatted_lines = []\n",
    "n = len(new_lines)\n",
    "for i in range(n):\n",
    "    line = new_lines[i].strip()\n",
    "    if line[0] == ' ': # remove white space in front of couplets\n",
    "        line = line[2:]\n",
    "    line = line[:-1].lower()\n",
    "    punc = \"!()[]{};:,.?\"\n",
    "    for x in punc:\n",
    "        line = line.replace(x, '')\n",
    "    if len(line) > 10:\n",
    "        formatted_lines.append(line.strip())"
   ]
  },
  {
   "cell_type": "code",
   "execution_count": 16,
   "metadata": {},
   "outputs": [],
   "source": [
    "for line in formatted_lines:\n",
    "    if len(line) < 10:\n",
    "        print(len(line))\n",
    "for line in formatted_lines:\n",
    "    if len(line) < 10:\n",
    "        print(len(line))"
   ]
  },
  {
   "cell_type": "code",
   "execution_count": 18,
   "metadata": {},
   "outputs": [],
   "source": [
    "n = len(formatted_lines)\n",
    "poems = []\n",
    "i = 0\n",
    "while i < n:\n",
    "    poem = ''\n",
    "    for j in range(14):\n",
    "        poem += formatted_lines[i+j] + ' '\n",
    "    i += 14\n",
    "    poems.append(poem)"
   ]
  },
  {
   "cell_type": "code",
   "execution_count": 21,
   "metadata": {},
   "outputs": [],
   "source": [
    "lines = []\n",
    "f = open('./data/shakespeare_good.txt', 'r')\n",
    "for line in f:\n",
    "    lines.append(line)\n",
    "f.close()"
   ]
  },
  {
   "cell_type": "code",
   "execution_count": 22,
   "metadata": {},
   "outputs": [],
   "source": [
    "new_lines = lines.copy()\n",
    "for line in new_lines:\n",
    "    if len(line.strip()) < 6:\n",
    "        new_lines.remove(line)\n",
    "for line in new_lines:\n",
    "    if len(line.strip()) < 6:\n",
    "        new_lines.remove(line)"
   ]
  },
  {
   "cell_type": "code",
   "execution_count": 23,
   "metadata": {},
   "outputs": [],
   "source": [
    "formatted_lines = []\n",
    "n = len(new_lines)\n",
    "for i in range(n):\n",
    "    line = new_lines[i]\n",
    "    if line[0] == ' ': # remove white space in front of couplets\n",
    "        line = line[2:]\n",
    "    line = line[:-1].lower()\n",
    "    punc = \"!()[]{};:,.?\"\n",
    "    for x in punc:\n",
    "        line = line.replace(x, '')\n",
    "    if line != '':\n",
    "        formatted_lines.append(line)"
   ]
  },
  {
   "cell_type": "code",
   "execution_count": 24,
   "metadata": {},
   "outputs": [],
   "source": [
    "n = len(formatted_lines)\n",
    "i = 0\n",
    "while i < n:\n",
    "    poem = ''\n",
    "    for j in range(14):\n",
    "        poem += formatted_lines[i+j] + ' '\n",
    "    i += 14\n",
    "    poems.append(poem)"
   ]
  },
  {
   "cell_type": "code",
   "execution_count": 25,
   "metadata": {},
   "outputs": [],
   "source": [
    "# create new file where each sequence is a whole poem for HMM\n",
    "with open('./data/all_poems.txt', 'w') as f:\n",
    "    for line in poems:\n",
    "        f.write(\"%s\\n\" % line)"
   ]
  },
  {
   "cell_type": "code",
   "execution_count": 29,
   "metadata": {},
   "outputs": [
    {
     "name": "stderr",
     "output_type": "stream",
     "text": [
      "[nltk_data] Downloading package cmudict to\n",
      "[nltk_data]     C:\\Users\\danie\\AppData\\Roaming\\nltk_data...\n",
      "[nltk_data]   Unzipping corpora\\cmudict.zip.\n"
     ]
    }
   ],
   "source": [
    "import nltk\n",
    "nltk.download('cmudict')\n",
    "from nltk.corpus import cmudict\n",
    "d = cmudict.dict()\n",
    "def nsyl(word):\n",
    "  return [len(list(y for y in x if y[-1].isdigit())) for x in d[word.lower()]] "
   ]
  },
  {
   "cell_type": "code",
   "execution_count": 33,
   "metadata": {},
   "outputs": [
    {
     "ename": "KeyError",
     "evalue": "\"whoe'er\"",
     "output_type": "error",
     "traceback": [
      "\u001b[1;31m---------------------------------------------------------------------------\u001b[0m",
      "\u001b[1;31mKeyError\u001b[0m                                  Traceback (most recent call last)",
      "\u001b[1;32m<ipython-input-33-43973e4159c7>\u001b[0m in \u001b[0;36m<module>\u001b[1;34m\u001b[0m\n\u001b[1;32m----> 1\u001b[1;33m \u001b[0mnsyl\u001b[0m\u001b[1;33m(\u001b[0m\u001b[1;34m\"whoe'er\"\u001b[0m\u001b[1;33m)\u001b[0m\u001b[1;33m\u001b[0m\u001b[1;33m\u001b[0m\u001b[0m\n\u001b[0m",
      "\u001b[1;32m<ipython-input-29-94a8e4621a8a>\u001b[0m in \u001b[0;36mnsyl\u001b[1;34m(word)\u001b[0m\n\u001b[0;32m      4\u001b[0m \u001b[0md\u001b[0m \u001b[1;33m=\u001b[0m \u001b[0mcmudict\u001b[0m\u001b[1;33m.\u001b[0m\u001b[0mdict\u001b[0m\u001b[1;33m(\u001b[0m\u001b[1;33m)\u001b[0m\u001b[1;33m\u001b[0m\u001b[1;33m\u001b[0m\u001b[0m\n\u001b[0;32m      5\u001b[0m \u001b[1;32mdef\u001b[0m \u001b[0mnsyl\u001b[0m\u001b[1;33m(\u001b[0m\u001b[0mword\u001b[0m\u001b[1;33m)\u001b[0m\u001b[1;33m:\u001b[0m\u001b[1;33m\u001b[0m\u001b[1;33m\u001b[0m\u001b[0m\n\u001b[1;32m----> 6\u001b[1;33m   \u001b[1;32mreturn\u001b[0m \u001b[1;33m[\u001b[0m\u001b[0mlen\u001b[0m\u001b[1;33m(\u001b[0m\u001b[0mlist\u001b[0m\u001b[1;33m(\u001b[0m\u001b[0my\u001b[0m \u001b[1;32mfor\u001b[0m \u001b[0my\u001b[0m \u001b[1;32min\u001b[0m \u001b[0mx\u001b[0m \u001b[1;32mif\u001b[0m \u001b[0my\u001b[0m\u001b[1;33m[\u001b[0m\u001b[1;33m-\u001b[0m\u001b[1;36m1\u001b[0m\u001b[1;33m]\u001b[0m\u001b[1;33m.\u001b[0m\u001b[0misdigit\u001b[0m\u001b[1;33m(\u001b[0m\u001b[1;33m)\u001b[0m\u001b[1;33m)\u001b[0m\u001b[1;33m)\u001b[0m \u001b[1;32mfor\u001b[0m \u001b[0mx\u001b[0m \u001b[1;32min\u001b[0m \u001b[0md\u001b[0m\u001b[1;33m[\u001b[0m\u001b[0mword\u001b[0m\u001b[1;33m.\u001b[0m\u001b[0mlower\u001b[0m\u001b[1;33m(\u001b[0m\u001b[1;33m)\u001b[0m\u001b[1;33m]\u001b[0m\u001b[1;33m]\u001b[0m\u001b[1;33m\u001b[0m\u001b[1;33m\u001b[0m\u001b[0m\n\u001b[0m",
      "\u001b[1;31mKeyError\u001b[0m: \"whoe'er\""
     ]
    }
   ],
   "source": []
  },
  {
   "cell_type": "code",
   "execution_count": null,
   "metadata": {},
   "outputs": [],
   "source": []
  }
 ],
 "metadata": {
  "kernelspec": {
   "display_name": "Python 3",
   "language": "python",
   "name": "python3"
  },
  "language_info": {
   "codemirror_mode": {
    "name": "ipython",
    "version": 3
   },
   "file_extension": ".py",
   "mimetype": "text/x-python",
   "name": "python",
   "nbconvert_exporter": "python",
   "pygments_lexer": "ipython3",
   "version": "3.7.4"
  }
 },
 "nbformat": 4,
 "nbformat_minor": 2
}
